{
 "cells": [
  {
   "cell_type": "markdown",
   "source": [
    "# Import"
   ],
   "metadata": {
    "collapsed": false
   }
  },
  {
   "cell_type": "code",
   "execution_count": 18,
   "metadata": {
    "collapsed": true
   },
   "outputs": [],
   "source": [
    "import qiskit as qs\n",
    "import numpy as np\n",
    "from qiskit import IBMQ, execute\n",
    "import qiskit.pulse as pulse\n",
    "from qiskit.pulse import Play\n",
    "from qiskit.compiler import assemble\n",
    "from qiskit.tools.monitor import job_monitor\n",
    "from scipy.optimize import curve_fit"
   ]
  },
  {
   "cell_type": "markdown",
   "source": [
    "# Linking to the Ibm quantum processor using qiskit"
   ],
   "metadata": {
    "collapsed": false
   }
  },
  {
   "cell_type": "code",
   "execution_count": 3,
   "outputs": [
    {
     "data": {
      "text/plain": "<AccountProvider for IBMQ(hub='ibm-q', group='open', project='main')>"
     },
     "execution_count": 3,
     "metadata": {},
     "output_type": "execute_result"
    }
   ],
   "source": [
    "IBMQ.load_account()"
   ],
   "metadata": {
    "collapsed": false,
    "pycharm": {
     "name": "#%%\n"
    }
   }
  },
  {
   "cell_type": "code",
   "execution_count": 4,
   "outputs": [],
   "source": [
    "provider = IBMQ.get_provider(hub='ibm-q', group='open', project='main')\n",
    "backend = provider.get_backend('ibmq_armonk')"
   ],
   "metadata": {
    "collapsed": false,
    "pycharm": {
     "name": "#%%\n"
    }
   }
  },
  {
   "cell_type": "code",
   "execution_count": 5,
   "outputs": [],
   "source": [
    "qubit = 0\n",
    "qubit_frequency = backend.properties().qubit_property(qubit, \"frequency\")[0]"
   ],
   "metadata": {
    "collapsed": false,
    "pycharm": {
     "name": "#%%\n"
    }
   }
  },
  {
   "cell_type": "code",
   "execution_count": 6,
   "outputs": [
    {
     "data": {
      "text/plain": "4971677927.931224"
     },
     "execution_count": 6,
     "metadata": {},
     "output_type": "execute_result"
    }
   ],
   "source": [
    "qubit_frequency"
   ],
   "metadata": {
    "collapsed": false,
    "pycharm": {
     "name": "#%%\n"
    }
   }
  },
  {
   "cell_type": "markdown",
   "source": [
    "# Scheduling an experiment"
   ],
   "metadata": {
    "collapsed": false
   }
  },
  {
   "cell_type": "code",
   "execution_count": 7,
   "outputs": [
    {
     "name": "stderr",
     "output_type": "stream",
     "text": [
      "C:\\Users\\soohw\\AppData\\Local\\Temp\\ipykernel_14380\\1100997428.py:2: VisibleDeprecationWarning: Creating an ndarray from ragged nested sequences (which is a list-or-tuple of lists-or-tuples-or ndarrays with different lengths or shapes) is deprecated. If you meant to do this, you must specify 'dtype=object' when creating the ndarray.\n",
      "  pulse_times = np.array(\n"
     ]
    }
   ],
   "source": [
    "pulse_amp_array =np.linspace(0.1, 1, 10)\n",
    "pulse_times = np.array(\n",
    "    [4 + np.arange(0, int(36. / (amplitude)), 6) for amplitude in pulse_amp_array]\n",
    ")\n",
    "pulse_times = pulse_times * 16"
   ],
   "metadata": {
    "collapsed": false,
    "pycharm": {
     "name": "#%%\n"
    }
   }
  },
  {
   "cell_type": "code",
   "execution_count": 12,
   "outputs": [],
   "source": [
    "backend_defaults = backend.defaults()\n",
    "inst_sched_map = backend_defaults.instruction_schedule_map\n",
    "measure_schedule = inst_sched_map.get(\"measure\", qubits=[qubit])\n",
    "drive_chan = pulse.DriveChannel(qubit)"
   ],
   "metadata": {
    "collapsed": false,
    "pycharm": {
     "name": "#%%\n"
    }
   }
  },
  {
   "cell_type": "code",
   "execution_count": 16,
   "outputs": [],
   "source": [
    "rabi_programs_dic_I = {}\n",
    "num_shots_per_point = 1024\n",
    "for idx, pulse_amplitude in enumerate(pulse_amp_array):\n",
    "    rabi_schedules_I = []\n",
    "    for duration_pulse in pulse_times[idx]:\n",
    "        drive_pulse = qs.pulse.library.gaussian_square(\n",
    "            duration=duration_pulse,\n",
    "            sigma=1,\n",
    "            amp=pulse_amplitude,\n",
    "            risefall=1,\n",
    "            name=f\"square_pulse_{duration_pulse}\",\n",
    "        )\n",
    "        schedule = pulse.Schedule(name=str(duration_pulse))\n",
    "        schedule |= (\n",
    "            Play(drive_pulse, pulse.DriveChannel(qubit)) << schedule.duration\n",
    "        )\n",
    "        schedule += measure_schedule << schedule.duration\n",
    "        rabi_schedules_I.append(schedule)\n",
    "    rabi_experiment_program_I = assemble(\n",
    "        rabi_schedules_I,\n",
    "        backend=backend,\n",
    "        meas_level=2,\n",
    "        meas_return=\"single\",\n",
    "        shots=num_shots_per_point,\n",
    "        schedule_los=[{drive_chan: qubit_frequency}]\n",
    "        * len(pulse_times[idx]),\n",
    "    )\n",
    "    rabi_programs_dic_I[pulse_amplitude] = rabi_experiment_program_I"
   ],
   "metadata": {
    "collapsed": false,
    "pycharm": {
     "name": "#%%\n"
    }
   }
  },
  {
   "cell_type": "code",
   "execution_count": 22,
   "outputs": [],
   "source": [
    "def fit_function(x_val, y_val, func, bound):\n",
    "    fitparams, conv = curve_fit(func, x_val, y_val, bounds=bound)\n",
    "    y_fit = func(x_val, *fitparams)\n",
    "    return fitparams, y_fit\n",
    "dt = backend.configuration().dt"
   ],
   "metadata": {
    "collapsed": false,
    "pycharm": {
     "name": "#%%\n"
    }
   }
  },
  {
   "cell_type": "markdown",
   "source": [
    "# Running calibration experiments"
   ],
   "metadata": {
    "collapsed": false
   }
  },
  {
   "cell_type": "code",
   "execution_count": 27,
   "outputs": [
    {
     "name": "stdout",
     "output_type": "stream",
     "text": [
      "Runing progress  1  out of  10\n",
      "Job Status: job is queued (6)     "
     ]
    },
    {
     "ename": "KeyboardInterrupt",
     "evalue": "",
     "output_type": "error",
     "traceback": [
      "\u001B[1;31m---------------------------------------------------------------------------\u001B[0m",
      "\u001B[1;31mKeyboardInterrupt\u001B[0m                         Traceback (most recent call last)",
      "Input \u001B[1;32mIn [27]\u001B[0m, in \u001B[0;36m<cell line: 3>\u001B[1;34m()\u001B[0m\n\u001B[0;32m      4\u001B[0m job \u001B[38;5;241m=\u001B[39m backend\u001B[38;5;241m.\u001B[39mrun(rabi_programs_dic_I[pulse_amplitude])\n\u001B[0;32m      5\u001B[0m \u001B[38;5;28mprint\u001B[39m(\u001B[38;5;124m\"\u001B[39m\u001B[38;5;124mRuning progress \u001B[39m\u001B[38;5;124m\"\u001B[39m,idx\u001B[38;5;241m+\u001B[39m\u001B[38;5;241m1\u001B[39m,\u001B[38;5;124m\"\u001B[39m\u001B[38;5;124m out of \u001B[39m\u001B[38;5;124m\"\u001B[39m,\u001B[38;5;28mlen\u001B[39m(pulse_amp_array))\n\u001B[1;32m----> 6\u001B[0m \u001B[43mjob_monitor\u001B[49m\u001B[43m(\u001B[49m\u001B[43mjob\u001B[49m\u001B[43m)\u001B[49m\n\u001B[0;32m      7\u001B[0m rabi_results \u001B[38;5;241m=\u001B[39m job\u001B[38;5;241m.\u001B[39mresult(timeout\u001B[38;5;241m=\u001B[39m\u001B[38;5;241m120\u001B[39m)\n\u001B[0;32m      8\u001B[0m rabi_values \u001B[38;5;241m=\u001B[39m []\n",
      "File \u001B[1;32mD:\\Users\\Soohwan\\Anaconda\\envs\\ksea2\\lib\\site-packages\\qiskit\\tools\\monitor\\job_monitor.py:89\u001B[0m, in \u001B[0;36mjob_monitor\u001B[1;34m(job, interval, quiet, output, line_discipline)\u001B[0m\n\u001B[0;32m     86\u001B[0m \u001B[38;5;28;01melse\u001B[39;00m:\n\u001B[0;32m     87\u001B[0m     _interval_set \u001B[38;5;241m=\u001B[39m \u001B[38;5;28;01mTrue\u001B[39;00m\n\u001B[1;32m---> 89\u001B[0m \u001B[43m_text_checker\u001B[49m\u001B[43m(\u001B[49m\n\u001B[0;32m     90\u001B[0m \u001B[43m    \u001B[49m\u001B[43mjob\u001B[49m\u001B[43m,\u001B[49m\u001B[43m \u001B[49m\u001B[43minterval\u001B[49m\u001B[43m,\u001B[49m\u001B[43m \u001B[49m\u001B[43m_interval_set\u001B[49m\u001B[43m,\u001B[49m\u001B[43m \u001B[49m\u001B[43mquiet\u001B[49m\u001B[38;5;241;43m=\u001B[39;49m\u001B[43mquiet\u001B[49m\u001B[43m,\u001B[49m\u001B[43m \u001B[49m\u001B[43moutput\u001B[49m\u001B[38;5;241;43m=\u001B[39;49m\u001B[43moutput\u001B[49m\u001B[43m,\u001B[49m\u001B[43m \u001B[49m\u001B[43mline_discipline\u001B[49m\u001B[38;5;241;43m=\u001B[39;49m\u001B[43mline_discipline\u001B[49m\n\u001B[0;32m     91\u001B[0m \u001B[43m\u001B[49m\u001B[43m)\u001B[49m\n",
      "File \u001B[1;32mD:\\Users\\Soohwan\\Anaconda\\envs\\ksea2\\lib\\site-packages\\qiskit\\tools\\monitor\\job_monitor.py:44\u001B[0m, in \u001B[0;36m_text_checker\u001B[1;34m(job, interval, _interval_set, quiet, output, line_discipline)\u001B[0m\n\u001B[0;32m     42\u001B[0m     \u001B[38;5;28mprint\u001B[39m(\u001B[38;5;124m\"\u001B[39m\u001B[38;5;132;01m{}\u001B[39;00m\u001B[38;5;132;01m{}\u001B[39;00m\u001B[38;5;124m: \u001B[39m\u001B[38;5;132;01m{}\u001B[39;00m\u001B[38;5;124m\"\u001B[39m\u001B[38;5;241m.\u001B[39mformat(line_discipline, \u001B[38;5;124m\"\u001B[39m\u001B[38;5;124mJob Status\u001B[39m\u001B[38;5;124m\"\u001B[39m, msg), end\u001B[38;5;241m=\u001B[39m\u001B[38;5;124m\"\u001B[39m\u001B[38;5;124m\"\u001B[39m, file\u001B[38;5;241m=\u001B[39moutput)\n\u001B[0;32m     43\u001B[0m \u001B[38;5;28;01mwhile\u001B[39;00m status\u001B[38;5;241m.\u001B[39mname \u001B[38;5;129;01mnot\u001B[39;00m \u001B[38;5;129;01min\u001B[39;00m [\u001B[38;5;124m\"\u001B[39m\u001B[38;5;124mDONE\u001B[39m\u001B[38;5;124m\"\u001B[39m, \u001B[38;5;124m\"\u001B[39m\u001B[38;5;124mCANCELLED\u001B[39m\u001B[38;5;124m\"\u001B[39m, \u001B[38;5;124m\"\u001B[39m\u001B[38;5;124mERROR\u001B[39m\u001B[38;5;124m\"\u001B[39m]:\n\u001B[1;32m---> 44\u001B[0m     \u001B[43mtime\u001B[49m\u001B[38;5;241;43m.\u001B[39;49m\u001B[43msleep\u001B[49m\u001B[43m(\u001B[49m\u001B[43minterval\u001B[49m\u001B[43m)\u001B[49m\n\u001B[0;32m     45\u001B[0m     status \u001B[38;5;241m=\u001B[39m job\u001B[38;5;241m.\u001B[39mstatus()\n\u001B[0;32m     46\u001B[0m     msg \u001B[38;5;241m=\u001B[39m status\u001B[38;5;241m.\u001B[39mvalue\n",
      "\u001B[1;31mKeyboardInterrupt\u001B[0m: "
     ]
    }
   ],
   "source": [
    "rabi_calibration_exp_I = []\n",
    "rabi_oscillations_results = []\n",
    "for idx, pulse_amplitude in enumerate(pulse_amp_array):\n",
    "    job = backend.run(rabi_programs_dic_I[pulse_amplitude])\n",
    "    print(\"Runing progress \",idx+1,\" out of \",len(pulse_amp_array))\n",
    "    job_monitor(job)\n",
    "    rabi_results = job.result(timeout=120)\n",
    "    rabi_values = []\n",
    "    time_array = pulse_times[idx] * dt\n",
    "    for time_idx in pulse_times[idx]:\n",
    "        counts = rabi_results.get_counts(str(time_idx))\n",
    "        excited_pop = 0\n",
    "        for bits, count in counts.items():\n",
    "            excited_pop += count if bits[::-1][qubit] == \"1\" else 0\n",
    "        rabi_values.append(excited_pop / num_shots_per_point)\n",
    "\n",
    "    rabi_oscillations_results.append(rabi_values)\n",
    "    fit_parameters, y_fit = fit_function(\n",
    "        time_array,\n",
    "        rabi_values,\n",
    "        lambda x, A, rabi_freq, phi: A\n",
    "        * np.cos(2 * np.pi * rabi_freq * x + phi) ** 2,\n",
    "        (\n",
    "            [0.9, np.abs(pulse_amplitude * 0.4 * 1e7), 1],\n",
    "            [1, np.abs(pulse_amplitude * 1.2 * 1e7), 2],\n",
    "        ),\n",
    "    )\n",
    "\n",
    "    rabi_calibration_exp_I.append(fit_parameters[1])\n"
   ],
   "metadata": {
    "collapsed": false,
    "pycharm": {
     "name": "#%%\n"
    }
   }
  },
  {
   "cell_type": "code",
   "execution_count": null,
   "outputs": [],
   "source": [],
   "metadata": {
    "collapsed": false,
    "pycharm": {
     "name": "#%%\n"
    }
   }
  }
 ],
 "metadata": {
  "kernelspec": {
   "display_name": "Python 3",
   "language": "python",
   "name": "python3"
  },
  "language_info": {
   "codemirror_mode": {
    "name": "ipython",
    "version": 2
   },
   "file_extension": ".py",
   "mimetype": "text/x-python",
   "name": "python",
   "nbconvert_exporter": "python",
   "pygments_lexer": "ipython2",
   "version": "2.7.6"
  }
 },
 "nbformat": 4,
 "nbformat_minor": 0
}