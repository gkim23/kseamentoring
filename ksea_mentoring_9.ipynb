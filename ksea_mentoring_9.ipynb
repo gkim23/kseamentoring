{
 "cells": [
  {
   "cell_type": "markdown",
   "source": [
    "# 1. Settings"
   ],
   "metadata": {
    "collapsed": false
   }
  },
  {
   "cell_type": "code",
   "execution_count": 1,
   "metadata": {},
   "outputs": [],
   "source": [
    "import sys\n",
    "from qutip_simulation_functions import *\n",
    "import numpy as np\n",
    "import qutip as qt\n",
    "import scipy.signal as sp\n",
    "\n",
    "%matplotlib inline"
   ]
  },
  {
   "cell_type": "code",
   "execution_count": 2,
   "metadata": {},
   "outputs": [],
   "source": [
    "nq = 10\n",
    "g = qt.basis(nq,0)\n",
    "e = qt.basis(nq,1)\n",
    "f = qt.basis(nq, 2)\n",
    "h = qt.basis(nq, 3)\n",
    "\n",
    "psi0 = g\n",
    "\n",
    "b = qt.destroy(nq)\n",
    "\n",
    "qubit_x = b + b.dag()\n",
    "qubit_y = -1j * (b - b.dag())\n",
    "qubit_z = 2 * b.dag() * b - qt.qeye(nq)\n",
    "g_state_projector = g * g.dag()\n",
    "e_state_projector = e * e.dag()\n",
    "f_state_projector = f * f.dag()\n",
    "\n",
    "e_ops = [qubit_x, qubit_y, qubit_z, g_state_projector, e_state_projector, f_state_projector]\n",
    "c_ops = []"
   ]
  },
  {
   "cell_type": "code",
   "execution_count": 3,
   "outputs": [],
   "source": [
    "h_bar = 1\n",
    "# qubit_frequency_ghz = 2 * np.pi * 5\n",
    "alpha_ghz = 2 * np.pi * 0.2\n",
    "\n",
    "transmon_hamiltonian = - h_bar * alpha_ghz / 2 * b.dag() * b.dag() * b * b"
   ],
   "metadata": {
    "collapsed": false,
    "pycharm": {
     "name": "#%%\n"
    }
   }
  },
  {
   "cell_type": "markdown",
   "source": [],
   "metadata": {
    "collapsed": false
   }
  },
  {
   "cell_type": "code",
   "execution_count": 4,
   "outputs": [],
   "source": [
    "def pi_pulse_generator(sigma, length):\n",
    "    gauss_waveform = sp.gaussian(length*10, sigma*10)\n",
    "    area = np.trapz(gauss_waveform)\n",
    "    pi_pulse = np.pi * gauss_waveform / (area)\n",
    "    return pi_pulse"
   ],
   "metadata": {
    "collapsed": false,
    "pycharm": {
     "name": "#%%\n"
    }
   }
  },
  {
   "cell_type": "code",
   "execution_count": 5,
   "outputs": [],
   "source": [
    "def plot_population(tlist, p_list):\n",
    "    fig, ax = plt.subplots(figsize=(12,5))\n",
    "    ax.plot(tlist, p_list[0])\n",
    "    ax.plot(tlist, p_list[1])\n",
    "    ax.plot(tlist, p_list[2])\n",
    "    ax.legend((\"g\",\"e\",\"f\"))\n",
    "    ax.set_title(\"Qubit State Population\")\n",
    "    plt.xlabel(\"Time[ns]\")"
   ],
   "metadata": {
    "collapsed": false,
    "pycharm": {
     "name": "#%%\n"
    }
   }
  },
  {
   "cell_type": "code",
   "execution_count": 8,
   "outputs": [
    {
     "ename": "ValueError",
     "evalue": "The length of `y` along `axis`=0 doesn't match the length of `x`",
     "output_type": "error",
     "traceback": [
      "\u001B[1;31m---------------------------------------------------------------------------\u001B[0m",
      "\u001B[1;31mValueError\u001B[0m                                Traceback (most recent call last)",
      "Input \u001B[1;32mIn [8]\u001B[0m, in \u001B[0;36m<cell line: 6>\u001B[1;34m()\u001B[0m\n\u001B[0;32m      4\u001B[0m tlist \u001B[38;5;241m=\u001B[39m np\u001B[38;5;241m.\u001B[39mlinspace(\u001B[38;5;241m0\u001B[39m, pulse_length_ns\u001B[38;5;241m*\u001B[39m\u001B[38;5;241m10\u001B[39m, pulse_length_ns\u001B[38;5;241m*\u001B[39m\u001B[38;5;241m10\u001B[39m)\n\u001B[0;32m      5\u001B[0m omega_100_ns \u001B[38;5;241m=\u001B[39m pi_pulse_generator(pulse_sigma_ns, pulse_length_ns)\n\u001B[1;32m----> 6\u001B[0m H_100_ns \u001B[38;5;241m=\u001B[39m \u001B[43mdriven_hamiltonian\u001B[49m\u001B[43m(\u001B[49m\u001B[43momega\u001B[49m\u001B[38;5;241;43m=\u001B[39;49m\u001B[43momega_100_ns\u001B[49m\u001B[43m,\u001B[49m\u001B[43m \u001B[49m\u001B[43mfree_hamiltonian\u001B[49m\u001B[38;5;241;43m=\u001B[39;49m\u001B[43mtransmon_hamiltonian\u001B[49m\u001B[43m,\u001B[49m\u001B[43m \u001B[49m\u001B[43mqubit_x\u001B[49m\u001B[43m \u001B[49m\u001B[38;5;241;43m=\u001B[39;49m\u001B[43m \u001B[49m\u001B[43mqubit_x\u001B[49m\u001B[43m,\u001B[49m\u001B[43m \u001B[49m\u001B[43mqubit_y\u001B[49m\u001B[43m \u001B[49m\u001B[38;5;241;43m=\u001B[39;49m\u001B[43m \u001B[49m\u001B[43mqubit_y\u001B[49m\u001B[43m,\u001B[49m\u001B[43m \u001B[49m\u001B[43mplot\u001B[49m\u001B[38;5;241;43m=\u001B[39;49m\u001B[38;5;28;43;01mTrue\u001B[39;49;00m\u001B[43m)\u001B[49m\n\u001B[0;32m      7\u001B[0m res \u001B[38;5;241m=\u001B[39m qt\u001B[38;5;241m.\u001B[39mmesolve(H_100_ns,psi0,tlist,c_ops\u001B[38;5;241m=\u001B[39mc_ops, e_ops\u001B[38;5;241m=\u001B[39me_ops, options\u001B[38;5;241m=\u001B[39mqt\u001B[38;5;241m.\u001B[39mOptions(store_states\u001B[38;5;241m=\u001B[39m\u001B[38;5;28;01mTrue\u001B[39;00m))\n\u001B[0;32m      8\u001B[0m bvec_array \u001B[38;5;241m=\u001B[39m [res\u001B[38;5;241m.\u001B[39mexpect[\u001B[38;5;241m0\u001B[39m],res\u001B[38;5;241m.\u001B[39mexpect[\u001B[38;5;241m1\u001B[39m],res\u001B[38;5;241m.\u001B[39mexpect[\u001B[38;5;241m2\u001B[39m]]\n",
      "File \u001B[1;32m~\\PycharmProjects\\kseamentoring\\qutip_simulation_functions.py:64\u001B[0m, in \u001B[0;36mdriven_hamiltonian\u001B[1;34m(omega, free_hamiltonian, qubit_x, qubit_y, plot)\u001B[0m\n\u001B[0;32m     62\u001B[0m \u001B[38;5;28;01mif\u001B[39;00m plot:\n\u001B[0;32m     63\u001B[0m     fig, ax \u001B[38;5;241m=\u001B[39m plt\u001B[38;5;241m.\u001B[39msubplots(\u001B[38;5;241m1\u001B[39m,\u001B[38;5;241m1\u001B[39m,figsize\u001B[38;5;241m=\u001B[39m(\u001B[38;5;241m12\u001B[39m,\u001B[38;5;241m10\u001B[39m))\n\u001B[1;32m---> 64\u001B[0m     ax\u001B[38;5;241m.\u001B[39mplot(tlist, \u001B[43mHt_list\u001B[49m\u001B[43m[\u001B[49m\u001B[38;5;241;43m1\u001B[39;49m\u001B[43m]\u001B[49m\u001B[43m[\u001B[49m\u001B[38;5;241;43m1\u001B[39;49m\u001B[43m]\u001B[49m\u001B[43m(\u001B[49m\u001B[43mtlist\u001B[49m\u001B[43m)\u001B[49m \u001B[38;5;241m*\u001B[39m \u001B[38;5;241m1e3\u001B[39m \u001B[38;5;241m/\u001B[39m (\u001B[38;5;241m2\u001B[39m \u001B[38;5;241m*\u001B[39m np\u001B[38;5;241m.\u001B[39mpi))\n\u001B[0;32m     65\u001B[0m     ax\u001B[38;5;241m.\u001B[39mplot(tlist, Ht_list[\u001B[38;5;241m2\u001B[39m][\u001B[38;5;241m1\u001B[39m](tlist) \u001B[38;5;241m*\u001B[39m \u001B[38;5;241m1e3\u001B[39m \u001B[38;5;241m/\u001B[39m (\u001B[38;5;241m2\u001B[39m \u001B[38;5;241m*\u001B[39m np\u001B[38;5;241m.\u001B[39mpi))\n\u001B[0;32m     66\u001B[0m     ax\u001B[38;5;241m.\u001B[39mlegend((\u001B[38;5;124m\"\u001B[39m\u001B[38;5;124mReal\u001B[39m\u001B[38;5;124m\"\u001B[39m, \u001B[38;5;124m\"\u001B[39m\u001B[38;5;124mImag\u001B[39m\u001B[38;5;124m\"\u001B[39m))\n",
      "File \u001B[1;32m~\\PycharmProjects\\kseamentoring\\qutip_simulation_functions.py:52\u001B[0m, in \u001B[0;36mdriven_hamiltonian.<locals>.make_interpolation.<locals>._function\u001B[1;34m(t, args)\u001B[0m\n\u001B[0;32m     51\u001B[0m \u001B[38;5;28;01mdef\u001B[39;00m \u001B[38;5;21m_function\u001B[39m(t,args\u001B[38;5;241m=\u001B[39m\u001B[38;5;28;01mNone\u001B[39;00m):\n\u001B[1;32m---> 52\u001B[0m     \u001B[38;5;28;01mreturn\u001B[39;00m \u001B[43mCubicSpline\u001B[49m\u001B[43m(\u001B[49m\u001B[43mtlist\u001B[49m\u001B[43m,\u001B[49m\u001B[43mpulse_array\u001B[49m\u001B[43m[\u001B[49m\u001B[38;5;28;43mid\u001B[39;49m\u001B[43m]\u001B[49m\u001B[43m,\u001B[49m\u001B[43m \u001B[49m\u001B[43mbc_type\u001B[49m\u001B[38;5;241;43m=\u001B[39;49m\u001B[38;5;124;43m\"\u001B[39;49m\u001B[38;5;124;43mclamped\u001B[39;49m\u001B[38;5;124;43m\"\u001B[39;49m\u001B[43m)\u001B[49m(t)\n",
      "File \u001B[1;32m~\\anaconda3\\envs\\kseamentoring3\\lib\\site-packages\\scipy\\interpolate\\_cubic.py:629\u001B[0m, in \u001B[0;36mCubicSpline.__init__\u001B[1;34m(self, x, y, axis, bc_type, extrapolate)\u001B[0m\n\u001B[0;32m    628\u001B[0m \u001B[38;5;28;01mdef\u001B[39;00m \u001B[38;5;21m__init__\u001B[39m(\u001B[38;5;28mself\u001B[39m, x, y, axis\u001B[38;5;241m=\u001B[39m\u001B[38;5;241m0\u001B[39m, bc_type\u001B[38;5;241m=\u001B[39m\u001B[38;5;124m'\u001B[39m\u001B[38;5;124mnot-a-knot\u001B[39m\u001B[38;5;124m'\u001B[39m, extrapolate\u001B[38;5;241m=\u001B[39m\u001B[38;5;28;01mNone\u001B[39;00m):\n\u001B[1;32m--> 629\u001B[0m     x, dx, y, axis, _ \u001B[38;5;241m=\u001B[39m \u001B[43mprepare_input\u001B[49m\u001B[43m(\u001B[49m\u001B[43mx\u001B[49m\u001B[43m,\u001B[49m\u001B[43m \u001B[49m\u001B[43my\u001B[49m\u001B[43m,\u001B[49m\u001B[43m \u001B[49m\u001B[43maxis\u001B[49m\u001B[43m)\u001B[49m\n\u001B[0;32m    630\u001B[0m     n \u001B[38;5;241m=\u001B[39m \u001B[38;5;28mlen\u001B[39m(x)\n\u001B[0;32m    632\u001B[0m     bc, y \u001B[38;5;241m=\u001B[39m \u001B[38;5;28mself\u001B[39m\u001B[38;5;241m.\u001B[39m_validate_bc(bc_type, y, y\u001B[38;5;241m.\u001B[39mshape[\u001B[38;5;241m1\u001B[39m:], axis)\n",
      "File \u001B[1;32m~\\anaconda3\\envs\\kseamentoring3\\lib\\site-packages\\scipy\\interpolate\\_cubic.py:48\u001B[0m, in \u001B[0;36mprepare_input\u001B[1;34m(x, y, axis, dydx)\u001B[0m\n\u001B[0;32m     46\u001B[0m     \u001B[38;5;28;01mraise\u001B[39;00m \u001B[38;5;167;01mValueError\u001B[39;00m(\u001B[38;5;124m\"\u001B[39m\u001B[38;5;124m`x` must contain at least 2 elements.\u001B[39m\u001B[38;5;124m\"\u001B[39m)\n\u001B[0;32m     47\u001B[0m \u001B[38;5;28;01mif\u001B[39;00m x\u001B[38;5;241m.\u001B[39mshape[\u001B[38;5;241m0\u001B[39m] \u001B[38;5;241m!=\u001B[39m y\u001B[38;5;241m.\u001B[39mshape[axis]:\n\u001B[1;32m---> 48\u001B[0m     \u001B[38;5;28;01mraise\u001B[39;00m \u001B[38;5;167;01mValueError\u001B[39;00m(\u001B[38;5;124m\"\u001B[39m\u001B[38;5;124mThe length of `y` along `axis`=\u001B[39m\u001B[38;5;132;01m{0}\u001B[39;00m\u001B[38;5;124m doesn\u001B[39m\u001B[38;5;124m'\u001B[39m\u001B[38;5;124mt \u001B[39m\u001B[38;5;124m\"\u001B[39m\n\u001B[0;32m     49\u001B[0m                      \u001B[38;5;124m\"\u001B[39m\u001B[38;5;124mmatch the length of `x`\u001B[39m\u001B[38;5;124m\"\u001B[39m\u001B[38;5;241m.\u001B[39mformat(axis))\n\u001B[0;32m     51\u001B[0m \u001B[38;5;28;01mif\u001B[39;00m \u001B[38;5;129;01mnot\u001B[39;00m np\u001B[38;5;241m.\u001B[39mall(np\u001B[38;5;241m.\u001B[39misfinite(x)):\n\u001B[0;32m     52\u001B[0m     \u001B[38;5;28;01mraise\u001B[39;00m \u001B[38;5;167;01mValueError\u001B[39;00m(\u001B[38;5;124m\"\u001B[39m\u001B[38;5;124m`x` must contain only finite values.\u001B[39m\u001B[38;5;124m\"\u001B[39m)\n",
      "\u001B[1;31mValueError\u001B[0m: The length of `y` along `axis`=0 doesn't match the length of `x`"
     ]
    },
    {
     "data": {
      "text/plain": "<Figure size 864x720 with 1 Axes>",
      "image/png": "[encoded data removed]"
     },
     "metadata": {
      "needs_background": "light"
     },
     "output_type": "display_data"
    }
   ],
   "source": [
    "pulse_sigma_ns = 5\n",
    "pulse_length_ns = 6 * pulse_sigma_ns\n",
    "\n",
    "tlist = np.linspace(0, pulse_length_ns*10, pulse_length_ns*10)\n",
    "omega_100_ns = pi_pulse_generator(pulse_sigma_ns, pulse_length_ns)\n",
    "H_100_ns = driven_hamiltonian(omega=omega_100_ns, free_hamiltonian=transmon_hamiltonian, qubit_x = qubit_x, qubit_y = qubit_y, plot=True)\n",
    "res = qt.mesolve(H_100_ns,psi0,tlist,c_ops=c_ops, e_ops=e_ops, options=qt.Options(store_states=True))\n",
    "bvec_array = [res.expect[0],res.expect[1],res.expect[2]]\n",
    "plist = [res.expect[3], res.expect[4], res.expect[5]]\n",
    "plot_bloch_vector_component(tlist=tlist, bloch_array=bvec_array)\n",
    "plot_population(tlist=tlist, p_list=plist)\n",
    "print(\"X Gate Fidelity: \", plist[1][-1])"
   ],
   "metadata": {
    "collapsed": false,
    "pycharm": {
     "name": "#%%\n"
    }
   }
  },
  {
   "cell_type": "code",
   "execution_count": null,
   "outputs": [],
   "source": [
    "pulse_sigma_ns = 1\n",
    "pulse_length_ns = 6 * pulse_sigma_ns\n",
    "\n",
    "tlist = np.linspace(0, pulse_length_ns,100)\n",
    "omega_100_ns = pi_pulse_generator(pulse_sigma_ns, pulse_length_ns)\n",
    "H_100_ns = driven_hamiltonian(omega=omega_100_ns, free_hamiltonian=transmon_hamiltonian, qubit_x = qubit_x, qubit_y = qubit_y, plot=True)\n",
    "res = qt.mesolve(H_100_ns,psi0,tlist,c_ops=c_ops, e_ops=e_ops, options=qt.Options(store_states=True))\n",
    "bvec_array = [res.expect[0],res.expect[1],res.expect[2]]\n",
    "plist = [res.expect[3], res.expect[4], res.expect[5]]\n",
    "plot_bloch_vector_component(tlist=tlist, bloch_array=bvec_array)\n",
    "plot_population(tlist=tlist, p_list=plist)\n",
    "print(\"X Gate Fidelity: \", plist[1][-1])"
   ],
   "metadata": {
    "collapsed": false,
    "pycharm": {
     "name": "#%%\n"
    }
   }
  },
  {
   "cell_type": "code",
   "execution_count": null,
   "outputs": [],
   "source": [],
   "metadata": {
    "collapsed": false,
    "pycharm": {
     "name": "#%%\n"
    }
   }
  }
 ],
 "metadata": {
  "interpreter": {
   "hash": "ec0395c491a3726b6e5aefebe172f397c1fc26961254757f9baacc5c46f42535"
  },
  "kernelspec": {
   "display_name": "Python 3.8.0 ('qutip-env')",
   "language": "python",
   "name": "python3"
  },
  "language_info": {
   "codemirror_mode": {
    "name": "ipython",
    "version": 3
   },
   "file_extension": ".py",
   "mimetype": "text/x-python",
   "name": "python",
   "nbconvert_exporter": "python",
   "pygments_lexer": "ipython3",
   "version": "3.8.0"
  },
  "orig_nbformat": 4
 },
 "nbformat": 4,
 "nbformat_minor": 2
}